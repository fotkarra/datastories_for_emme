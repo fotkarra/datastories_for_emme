{
  "nbformat": 4,
  "nbformat_minor": 0,
  "metadata": {
    "colab": {
      "provenance": [],
      "authorship_tag": "ABX9TyOXPvQ73nrrmowh76r7c0tM",
      "include_colab_link": true
    },
    "kernelspec": {
      "name": "python3",
      "display_name": "Python 3"
    },
    "language_info": {
      "name": "python"
    }
  },
  "cells": [
    {
      "cell_type": "markdown",
      "metadata": {
        "id": "view-in-github",
        "colab_type": "text"
      },
      "source": [
        "<a href=\"https://colab.research.google.com/github/fotkarra/datastories_for_emme/blob/main/exercise1.ipynb\" target=\"_parent\"><img src=\"https://colab.research.google.com/assets/colab-badge.svg\" alt=\"Open In Colab\"/></a>"
      ]
    },
    {
      "cell_type": "markdown",
      "source": [
        "\n",
        "Δημιουργήστε τις παρακάτω μεταβλητές:\n",
        "\n",
        "όνομα\n",
        "επώνυμο\n",
        "αριθμός μητρώου\n",
        "μάθημα 1\n",
        "μάθημα 2\n",
        "μάθημα 3\n",
        "βαθμός μαθήματος 1\n",
        "βαθμός μαθήματος 2\n",
        "βαθμός μαθήματος 3\n",
        "\n"
      ],
      "metadata": {
        "id": "ltJW9XWi0wTt"
      }
    },
    {
      "cell_type": "code",
      "execution_count": null,
      "metadata": {
        "colab": {
          "base_uri": "https://localhost:8080/"
        },
        "id": "REiQamVR0vCh",
        "outputId": "0d03da3b-ca9c-4f15-9703-fb373a99f62c"
      },
      "outputs": [
        {
          "output_type": "stream",
          "name": "stdout",
          "text": [
            "Φωτεινή Καρρά 7983092400009 Ηλεκτρονική Διακυβέρνηση Ψηφιακή Αφήγηση Μεθοδολογία Σχεδιασμού 0 10 9\n"
          ]
        }
      ],
      "source": [
        "name = \"Φωτεινή\"\n",
        "surname = \"Καρρά\"\n",
        "ΑΜ = \"7983092400009\"\n",
        "μάθημα1 = \"Ηλεκτρονική Διακυβέρνηση\"\n",
        "μάθημα2 = \"Ψηφιακή Αφήγηση\"\n",
        "μάθημα3 = \"Μεθοδολογία Σχεδιασμού\"\n",
        "βαθμός_μαθήματος1 = 0\n",
        "βαθμός_μαθήματος2 = 10\n",
        "βαθμός_μαθήματος3 = 9\n",
        "print(name, surname, ΑΜ, μάθημα1, μάθημα2, μάθημα3, βαθμός_μαθήματος1, βαθμός_μαθήματος2, βαθμός_μαθήματος3)"
      ]
    },
    {
      "cell_type": "markdown",
      "source": [
        "Υπολογίστε το μέσο όρο των βαθμών των 3 μαθημάτων, αποθηκεύστε τον σε μια μεταβλητή και τυπώστε την τιμή της μεταβλητής του μέσου όρου στην οθόνη."
      ],
      "metadata": {
        "id": "BFaygmVh2vsG"
      }
    },
    {
      "cell_type": "code",
      "source": [
        "μέσος_όρος = (βαθμός_μαθήματος1 + βαθμός_μαθήματος2 + βαθμός_μαθήματος3)/3\n",
        "print (μέσος_όρος)"
      ],
      "metadata": {
        "colab": {
          "base_uri": "https://localhost:8080/"
        },
        "id": "IepnJpUe2-1L",
        "outputId": "f4f9373f-7495-4869-ae9a-ab86220169fa"
      },
      "execution_count": null,
      "outputs": [
        {
          "output_type": "stream",
          "name": "stdout",
          "text": [
            "6.333333333333333\n"
          ]
        }
      ]
    },
    {
      "cell_type": "markdown",
      "source": [
        "Τυπώστε στην οθόνη την τιμή του μέσου όρου και τον τύπο δεδομένων της μεταβλητής του μέσου όρου."
      ],
      "metadata": {
        "id": "oSjDqMkL3oL9"
      }
    },
    {
      "cell_type": "code",
      "source": [
        "print (μέσος_όρος)"
      ],
      "metadata": {
        "colab": {
          "base_uri": "https://localhost:8080/"
        },
        "id": "oOrN_Odc3n5G",
        "outputId": "76fc40ff-e9d8-442d-8224-10e1dcd034d3"
      },
      "execution_count": null,
      "outputs": [
        {
          "output_type": "stream",
          "name": "stdout",
          "text": [
            "6.333333333333333\n"
          ]
        }
      ]
    },
    {
      "cell_type": "code",
      "source": [
        "print (type(μέσος_όρος))"
      ],
      "metadata": {
        "colab": {
          "base_uri": "https://localhost:8080/"
        },
        "id": "8vGumvrY9AJv",
        "outputId": "f422130a-0a6a-4891-a448-e63ab778c240"
      },
      "execution_count": null,
      "outputs": [
        {
          "output_type": "stream",
          "name": "stdout",
          "text": [
            "<class 'float'>\n"
          ]
        }
      ]
    },
    {
      "cell_type": "markdown",
      "source": [
        "Μετατρέψτε το μέσο όρο σε ακέραιο (integer) και τυπώστε το αποτέλεσμα στην οθόνη."
      ],
      "metadata": {
        "id": "rFweheJs9NcQ"
      }
    },
    {
      "cell_type": "code",
      "source": [
        "μέσος_όρος = int(μέσος_όρος)\n",
        "print (μέσος_όρος)"
      ],
      "metadata": {
        "colab": {
          "base_uri": "https://localhost:8080/"
        },
        "id": "yN_pXHJ896bZ",
        "outputId": "3825d071-c9ef-493d-e47c-81e1d8c82286"
      },
      "execution_count": null,
      "outputs": [
        {
          "output_type": "stream",
          "name": "stdout",
          "text": [
            "6\n"
          ]
        }
      ]
    },
    {
      "cell_type": "code",
      "source": [
        "Αλλάξτε τις τιμές των μεταβλητών των βαθμών των μαθημάτων και ξαναϋπολογίστε τον μέσο όρο."
      ],
      "metadata": {
        "id": "o9f6jxQv-GHx"
      },
      "execution_count": null,
      "outputs": []
    },
    {
      "cell_type": "code",
      "source": [
        "βαθμός_μαθήματος1 = 8\n",
        "βαθμός_μαθήματος2 = 9\n",
        "βαθμός_μαθήματος3 = 7\n",
        "μέσος_όρος = (βαθμός_μαθήματος1 + βαθμός_μαθήματος2 + βαθμός_μαθήματος3)/3\n",
        "print (μέσος_όρος)"
      ],
      "metadata": {
        "colab": {
          "base_uri": "https://localhost:8080/"
        },
        "id": "jFZmum9w-LJt",
        "outputId": "fc9ff9c8-7dc6-47f1-ab12-17dd298dfdcc"
      },
      "execution_count": null,
      "outputs": [
        {
          "output_type": "stream",
          "name": "stdout",
          "text": [
            "8.0\n"
          ]
        }
      ]
    },
    {
      "cell_type": "markdown",
      "source": [
        "Δημιουργήστε ένα νέο κελί κώδικα.\n",
        "\n",
        "Μέσα στο κελί γράφει: Start coding or generate with AI. Πατήστε τη λέξη generate.\n",
        "\n",
        "Στο κελί Generate που εμφανίζεται γράψτε ένα prompt με το οποίο να του ζητάτε να αλλάξει τη μεταβλητή grade1 σε 5 και να ξαναϋπολογίσει τον μέσο όρο."
      ],
      "metadata": {
        "id": "_pAUC6X7-u3l"
      }
    },
    {
      "cell_type": "code",
      "source": [
        "# prompt: βαθμός_μαθήματος1 = 5\n",
        "\n",
        "βαθμός_μαθήματος1 = 5\n",
        "μέσος_όρος = (βαθμός_μαθήματος1 + βαθμός_μαθήματος2 + βαθμός_μαθήματος3)/3\n",
        "print(μέσος_όρος)\n"
      ],
      "metadata": {
        "colab": {
          "base_uri": "https://localhost:8080/"
        },
        "id": "y1_zKNoJ-xoC",
        "outputId": "a714a328-befd-4336-83d8-5840f6bf1c30"
      },
      "execution_count": null,
      "outputs": [
        {
          "output_type": "stream",
          "name": "stdout",
          "text": [
            "7.0\n"
          ]
        }
      ]
    }
  ]
}