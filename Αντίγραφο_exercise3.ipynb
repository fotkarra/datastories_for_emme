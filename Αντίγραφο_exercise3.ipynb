{
  "nbformat": 4,
  "nbformat_minor": 0,
  "metadata": {
    "colab": {
      "provenance": [],
      "include_colab_link": true
    },
    "kernelspec": {
      "name": "python3",
      "display_name": "Python 3"
    },
    "language_info": {
      "name": "python"
    }
  },
  "cells": [
    {
      "cell_type": "markdown",
      "metadata": {
        "id": "view-in-github",
        "colab_type": "text"
      },
      "source": [
        "<a href=\"https://colab.research.google.com/github/fotkarra/datastories_for_emme/blob/main/%CE%91%CE%BD%CF%84%CE%AF%CE%B3%CF%81%CE%B1%CF%86%CE%BF_exercise3.ipynb\" target=\"_parent\"><img src=\"https://colab.research.google.com/assets/colab-badge.svg\" alt=\"Open In Colab\"/></a>"
      ]
    },
    {
      "cell_type": "markdown",
      "source": [
        "### Άσκηση 1\n",
        "\n",
        "Σ' αυτή την άσκηση θα φτιάξουμε μια λίστα στην οποία θα αποθηκεύουμε δίάφορα δεδομένα από άρθρα που δημοσιεύονται σε sites.\n",
        "\n",
        "Φτιάξτε ένα νέο κελί κώδικα (Code cell) ακριβώς κάτω από αυτό και κάνετε τα παρακάτω:\n",
        "\n",
        "- Δημιουργήστε μια κενή λίστα όπου θα αποθηκεύετε τα δεδομένα των άρθρων\n",
        "- Δημιουργήστε ένα λεξικό με τα στοιχεία του πρώτου άρθρου που θα συλλέξετε από ένα site: \"Τίτλος\", \"Ημερομηνία\", \"Κατηγορία\", \"url\"\n",
        "- Επαναλάβετε το 2 για ακόμα ένα άρθρο\n",
        "- Προσθέστε τα λεξικά στη λίστα.\n",
        "- Τυπώστε στην οθόνη τον τίτλο του 2ου άρθρου\n",
        "- Προσθέστε και στα 2 άρθρα μια εγγραφή με το όνομα του αντίστοιχου site που πήρατε το άρθρο\n",
        "- Τυπώστε στην οθόνη το πλήθος των λεξικών που έχει η λίστα.\n",
        "\n",
        "Tip:Δουλέψτε τμηματικά και ελέγχετε σε κάθε βήμα αυτό που κάνετε."
      ],
      "metadata": {
        "id": "PYkQAeYLq0d5"
      }
    },
    {
      "cell_type": "code",
      "execution_count": null,
      "metadata": {
        "id": "_51_g4biqyte"
      },
      "outputs": [],
      "source": [
        "articles_list = []\n",
        "article1_dict={\"title\":\"Οργή και θρήνος στη Β. Μακεδονία για τους 59 νεκρούς - Χιλιάδες πολίτες απαιτούν δικαιοσύνη\",\n",
        "               \"date\":\"17.03.25\",\n",
        "               \"category\":\"world\",\n",
        "               \"url\":\"https://www.efsyn.gr/kosmos/eyropi/466338_orgi-kai-thrinos-sti-b-makedonia-gia-toys-59-nekroys-hiliades-polites-apaitoyn\"}\n",
        "article2_dict={\"title\":\"Βόρεια Μακεδονία: Επεισόδια σε συγκέντρωση στο Κότσανι για τους 59 νεκρούς\",\n",
        "               \"date\":\"17.03.2025\",\n",
        "               \"category\":\"world\",\n",
        "               \"url\":\"https://www.kathimerini.gr/world/563518435/voreia-makedonia-sygkentroseis-se-skopia-kai-kotsani-gia-tin-tragodia-me-toys-59-nekroys/\"}"
      ]
    },
    {
      "cell_type": "code",
      "source": [
        "articles_list= [article1_dict,article2_dict]"
      ],
      "metadata": {
        "id": "ryJ4PcaqD9Sh"
      },
      "execution_count": null,
      "outputs": []
    },
    {
      "cell_type": "code",
      "source": [
        "print(articles_list[1][\"title\"])"
      ],
      "metadata": {
        "id": "D4zCOINWEHDc",
        "outputId": "02dffcd3-c53f-4788-e220-b1f2c03514b2",
        "colab": {
          "base_uri": "https://localhost:8080/"
        }
      },
      "execution_count": null,
      "outputs": [
        {
          "output_type": "stream",
          "name": "stdout",
          "text": [
            "Βόρεια Μακεδονία: Επεισόδια σε συγκέντρωση στο Κότσανι για τους 59 νεκρούς\n"
          ]
        }
      ]
    },
    {
      "cell_type": "code",
      "source": [
        "article1_keys=[]\n",
        "article1_values=[]\n",
        "for key in article1_dict.keys():\n",
        "  article1_keys.append(key)\n",
        "for value in article1_dict.values():\n",
        "  article1_values.append(value)\n",
        "print(\"keys:\", \", \".join(article1_keys))\n",
        "print(\"values:\", \", \".join(article1_values))\n",
        "\n",
        "\n",
        "article2_keys=[]\n",
        "article2_values=[]\n",
        "for key in article2_dict.keys():\n",
        "  article2_keys.append(key)\n",
        "for value in article2_dict.values():\n",
        "  article2_values.append(value)\n",
        "\n",
        "print(\"keys:\", \", \".join(article2_keys))\n",
        "print(\"values:\", \", \".join(article2_values))\n",
        "\n"
      ],
      "metadata": {
        "id": "Y3oKj_6vEYvZ",
        "outputId": "8bd34155-fb32-4fb8-ee04-8ffbb9ae12c7",
        "colab": {
          "base_uri": "https://localhost:8080/"
        }
      },
      "execution_count": null,
      "outputs": [
        {
          "output_type": "stream",
          "name": "stdout",
          "text": [
            "keys: title, date, category, url, site\n",
            "values: Οργή και θρήνος στη Β. Μακεδονία για τους 59 νεκρούς - Χιλιάδες πολίτες απαιτούν δικαιοσύνη, 17.03.25, world, https://www.efsyn.gr/kosmos/eyropi/466338_orgi-kai-thrinos-sti-b-makedonia-gia-toys-59-nekroys-hiliades-polites-apaitoyn, efsyn\n",
            "keys: title, date, category, url, site\n",
            "values: Βόρεια Μακεδονία: Επεισόδια σε συγκέντρωση στο Κότσανι για τους 59 νεκρούς, 17.03.2025, world, https://www.kathimerini.gr/world/563518435/voreia-makedonia-sygkentroseis-se-skopia-kai-kotsani-gia-tin-tragodia-me-toys-59-nekroys/, kathimerini\n"
          ]
        }
      ]
    },
    {
      "cell_type": "code",
      "source": [
        "list_length = len(articles_list)\n",
        "print(list_length)"
      ],
      "metadata": {
        "id": "h7tMGj7tNSSs",
        "outputId": "091aad9f-c09f-4068-9e9d-6b3136d78e04",
        "colab": {
          "base_uri": "https://localhost:8080/"
        }
      },
      "execution_count": null,
      "outputs": [
        {
          "output_type": "stream",
          "name": "stdout",
          "text": [
            "2\n"
          ]
        }
      ]
    },
    {
      "cell_type": "markdown",
      "source": [
        "\n",
        "\n",
        "---\n",
        "\n"
      ],
      "metadata": {
        "id": "5YTNrgMwvHQb"
      }
    },
    {
      "cell_type": "markdown",
      "source": [
        "### Άσκηση 2\n",
        "\n",
        "Η ακολουθία των αριθμών που δημιουργείται από το άθροισμα ενός αριθμού με τον προηγούμενό του λέγεται ακολουθία [Φιμπονάτσι](https://el.wikipedia.org/wiki/%CE%91%CE%BA%CE%BF%CE%BB%CE%BF%CF%85%CE%B8%CE%AF%CE%B1_%CE%A6%CE%B9%CE%BC%CF%80%CE%BF%CE%BD%CE%AC%CF%84%CF%83%CE%B9).\n",
        "\n",
        "Στο παρακάτω κελί και κάτω από τον υπάρχοντα κώδικα:\n",
        "\n",
        "- φτιάξτε μια for loop που θα τρέχει 22 φορές και\n",
        "- θα φτιάχνει μια μεταβλητή με όνομα c και τιμή το άθροισμα των a και b\n",
        "- θα τυπώνει την τιμή του c\n",
        "- θα αλλάζει την τιμή του a σε b και\n",
        "- θα αλλάζει την τιμή του b σε c\n",
        "- τρέξτε τον κώδικα"
      ],
      "metadata": {
        "id": "omSbKRDDyGb4"
      }
    },
    {
      "cell_type": "code",
      "source": [
        "a=0\n",
        "b=1\n",
        "for i in range(22):\n",
        "  c=a+b\n",
        "  print(c)\n",
        "  a=b\n",
        "  print(c)\n",
        "  b=c\n",
        "  print(c)\n"
      ],
      "metadata": {
        "id": "EZVUpHre870A",
        "colab": {
          "base_uri": "https://localhost:8080/"
        },
        "outputId": "180fdc1e-6e36-4a60-c8ea-7d219cd464b5"
      },
      "execution_count": 8,
      "outputs": [
        {
          "output_type": "stream",
          "name": "stdout",
          "text": [
            "1\n",
            "1\n",
            "1\n",
            "2\n",
            "2\n",
            "2\n",
            "3\n",
            "3\n",
            "3\n",
            "5\n",
            "5\n",
            "5\n",
            "8\n",
            "8\n",
            "8\n",
            "13\n",
            "13\n",
            "13\n",
            "21\n",
            "21\n",
            "21\n",
            "34\n",
            "34\n",
            "34\n",
            "55\n",
            "55\n",
            "55\n",
            "89\n",
            "89\n",
            "89\n",
            "144\n",
            "144\n",
            "144\n",
            "233\n",
            "233\n",
            "233\n",
            "377\n",
            "377\n",
            "377\n",
            "610\n",
            "610\n",
            "610\n",
            "987\n",
            "987\n",
            "987\n",
            "1597\n",
            "1597\n",
            "1597\n",
            "2584\n",
            "2584\n",
            "2584\n",
            "4181\n",
            "4181\n",
            "4181\n",
            "6765\n",
            "6765\n",
            "6765\n",
            "10946\n",
            "10946\n",
            "10946\n",
            "17711\n",
            "17711\n",
            "17711\n",
            "28657\n",
            "28657\n",
            "28657\n"
          ]
        }
      ]
    },
    {
      "cell_type": "markdown",
      "source": [
        "\n",
        "\n",
        "---\n",
        "\n"
      ],
      "metadata": {
        "id": "DmjkxZGvzXy1"
      }
    },
    {
      "cell_type": "markdown",
      "source": [
        "### Άσκηση 3\n",
        "\n",
        "Φτιάξτε ένα νέο κελί κώδικα ακριβώς από κάτω και:\n",
        "\n",
        "- Φτιάξτε μια λίστα με όνομα titlesL και βάλτε μέσα τους τίτλους 3 αγαπημένων σας ταινιών\n",
        "- Φτιάξτε άλλη μια λίστα με όνομα ratingsL και βάλτε μέσα το βαθμό (από το 1 έως το 10) που θα βάζατε σε καθε μια από τις ταινίες\n",
        "- Φτιάξτε μια for loop που να τρέχει για όλα τα αντικείμενα της λίστας των ταινιών και να τυπώνει το όνομά της και το βαθμό της.\n",
        "\n",
        "Hints:\n",
        "Δεδομενου ότι οι δύο λίστες έχουν τον ίδιο αριθμό αντικειμένων και η σειρά των βαθμολογιών αντιστοιχεί στη σειρά των ταινιών, μπορείτε να χρησιμοποιήσετε τον αριθμό του index και την range() σε συνδυασμό με τη len().\n",
        "\n",
        "**Γράψτε σε comment τι κάνει η κάθε γραμμή του κώδικά σας.**\n"
      ],
      "metadata": {
        "id": "QOAgGYGWvJIp"
      }
    },
    {
      "cell_type": "code",
      "source": [
        "titlesL=[\"Parasite\", \"Burning\", \"The Chaser\"]   #list με ταινίες\n",
        "ratingsL= [8, 9, 8.5]                           #list με βαθμολογίες\n",
        "\n",
        "for i in range(len(titlesL)):                   #Συνάρτηση range, για κάθε i της λίστας titlesL (ακολουθία της λίστας, τύπωσε μου τους τίτλους και τις βαθμολογίες\n",
        "  print(titlesL[i], ratingsL[i])"
      ],
      "metadata": {
        "id": "wxuW62Ly2z8q",
        "colab": {
          "base_uri": "https://localhost:8080/"
        },
        "outputId": "7a72ab52-6223-4d1e-8d54-b80c0d87f57f"
      },
      "execution_count": 9,
      "outputs": [
        {
          "output_type": "stream",
          "name": "stdout",
          "text": [
            "Parasite 8\n",
            "Burning 9\n",
            "The Chaser 8.5\n"
          ]
        }
      ]
    },
    {
      "cell_type": "markdown",
      "source": [],
      "metadata": {
        "id": "I0Hmo9fucckG"
      }
    },
    {
      "cell_type": "markdown",
      "source": [
        "\n",
        "\n",
        "---\n",
        "\n"
      ],
      "metadata": {
        "id": "6kh_O0w5yEFw"
      }
    },
    {
      "cell_type": "markdown",
      "source": [
        "### Άσκηση 4\n",
        "\n",
        "Φτιάξτε ένα νέο κελί κώδικα ακριβώς από κάτω και:\n",
        "\n",
        "- Φτιάξτε μια λίστα με όνομα titlesL και βάλτε μέσα τους τίτλους 3 αγαπημένων σας ταινιών\n",
        "- Φτιάξτε άλλη μια λίστα με όνομα ratingsL και βάλτε μέσα το βαθμό (από το 1 έως το 10) που θα βάζατε σε καθε μια από τις ταινίες\n",
        "\n",
        "**Αν κάνατε την προηγούμενη άσκηση, χρησιμοποιήστε τις ήδη δημιουργημένες λίστες titlesL και ratingsL - δλδ μην φτιάξετε καινούριες λίστες για το ίδιο πράγμα**\n",
        "\n",
        "- Φτιάξτε μια κενή λίστα με όνομα moviesL\n",
        "\n",
        "Φτιάξτε μια for loop που να τρέχει για όλα τα indexes της λίστας των ταινιών και να κάνει τα παρακάτω:\n",
        "- δημιουργεί ένα κενό λεξικό με όνομα movieD\n",
        "- φτιάχνει ένα item στο λεξικό με όνομα κλειδιού \"title\" και τιμή τον τίτλο που αντιστοιχεί στο εκάστοτε index της λίστας titlesL\n",
        "- φτιάχνει ένα item στο λεξικό με όνομα κλειδιού \"rating\" και τιμή το rating που αντιστοιχεδί στο εκάστοτε index της λίστας ratingsL\n",
        "- προσθέτει το λεξικό στη λίστα moviesL\n",
        "\n",
        "Τέλος, τυπώστε τη λίστα moviesL.\n",
        "\n",
        "**Γράψτε σε comment τι κάνει η κάθε γραμμή του κώδικά σας.**\n"
      ],
      "metadata": {
        "id": "TjFqUapc0JMr"
      }
    },
    {
      "cell_type": "code",
      "source": [
        "titlesL=[\"Parasite\", \"Burning\", \"The Chaser\"]           #list με ταινίες\n",
        "ratingsL= [8, 9, 8.5]                                   #list με βαθμολογίες\n",
        "\n",
        "moviesL=[]                                              #δημιουργία μίας κενής λίστας\n",
        "\n",
        "for i in range(len(titlesL)):                           #Συνάρτηση range, για κάθε i της λίστας titlesL (ακολουθία της λίστας, τύπωσε μου τους τίτλους και τις βαθμολογίες\n",
        "  moviesD= {}                                           #Δημιουργία κενού λεξικού\n",
        "  moviesD[\"title\"]=titlesL[i]                           #Δημιουργία item με key τον τιτλο και τη τιμή το index της λίστας\n",
        "  moviesD[\"rating\"]=ratingsL[i]                         #Δημιουργία item με key τον rating και τη τιμή το index της λίστας\n",
        "  moviesL.append(moviesD)                               #προσθήλη στην moviesL το dict moviesD\n",
        "print(moviesL)                                          #Tυπώνω τη λιστα\n"
      ],
      "metadata": {
        "id": "gDcAB6eG8AbC",
        "colab": {
          "base_uri": "https://localhost:8080/"
        },
        "outputId": "b2bb82e8-5436-4bbf-f02d-80c655ad2129"
      },
      "execution_count": 14,
      "outputs": [
        {
          "output_type": "stream",
          "name": "stdout",
          "text": [
            "[{'title': 'Parasite', 'rating': 8}, {'title': 'Burning', 'rating': 9}, {'title': 'The Chaser', 'rating': 8.5}]\n"
          ]
        }
      ]
    }
  ]
}