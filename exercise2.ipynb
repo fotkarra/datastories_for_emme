{
  "nbformat": 4,
  "nbformat_minor": 0,
  "metadata": {
    "colab": {
      "provenance": [],
      "include_colab_link": true
    },
    "kernelspec": {
      "name": "python3",
      "display_name": "Python 3"
    },
    "language_info": {
      "name": "python"
    }
  },
  "cells": [
    {
      "cell_type": "markdown",
      "metadata": {
        "id": "view-in-github",
        "colab_type": "text"
      },
      "source": [
        "<a href=\"https://colab.research.google.com/github/fotkarra/datastories_for_emme/blob/main/exercise2.ipynb\" target=\"_parent\"><img src=\"https://colab.research.google.com/assets/colab-badge.svg\" alt=\"Open In Colab\"/></a>"
      ]
    },
    {
      "cell_type": "markdown",
      "source": [
        "### **Άσκηση 1**:\n",
        "\n",
        "Χρησιμοποιώντας τις ιδιότητες/λειτουργίες των λιστών, υπολογίστε το μέσο όρο των βαθμών σε 3 μαθήματα, με 2 τρόπους, που περιγράφονται στα hints.\n",
        "\n",
        "Στη συνέχεια προσθέστε το βαθμό ενός ακόμα μαθήματος και ξαναϋπολογίστε το μέσο όρο και στρογγυλοποιήστε τον ώστε να μην έχει κανένα δεκαδικό ψηφίο.\n",
        "\n",
        "Τέλος, βρείτε το μεγαλύτερο βαθμό, τον μικρότερο βαθμό και το πλήθος των βαθμών.\n",
        "\n",
        "*Hints*:\n",
        "- φτιάξτε μια μεταβλητή για το βαθμό κάθε μαθήματος\n",
        "- φτιάξτε μια λίστα που θα περιέχει τις παραπάνω μεταβλητές\n",
        "- χρησιμοποιήστε τη συνάρτηση ```mean``` της βιβλιοθήκης ```statistics``` για να υπολογίσετε το μέσο όρο (from statistics import mean) - 1ος τρόπος\n",
        "- χρησιμοποιήστε τις συναρτήσεις ```sum()``` και ```len()``` για λίστες, για να εφαρμόσετε τον τύπο υπολογισμού του μέσου όρου: ```<άθροισμα βαθμών> / <πλήθος βαθμών>``` - 2ος τρόπος\n",
        "- χρησιμοποιήστε τη συνάρτηση ```round()``` για να στογγυλοποιήσετε το μέσο όρο\n",
        "- χρησιμοποιήστε τις συναρτήσεις ```max()```, ```min()``` και ```len()``` για να βρείτε αντίστοιχα το μεγαλύτερο βαθμό, τον μικρότερο βαθμό και το πλήθος των βαθμών\n",
        "\n",
        "*Tips*:\n",
        "- γράψτε μία-μία τις εντολές σε διαφορετικά κελιά και τυπώνετε το αποτέλεσμα της κάθε εντολής για να ελέγχετε το τι κάνετε\n",
        "- συμβουλευτείτε / αποδεχθείτε τις προτάσεις που σας κάνει το Gemini καθώς πληκτρολογείτε τις εντολές, πατώντας Tab - κάνετε διορθώσεις όπου χρειάζεται.\n"
      ],
      "metadata": {
        "id": "rUaKYeb1UuMb"
      }
    },
    {
      "cell_type": "code",
      "source": [
        "grade1 = 8\n",
        "grade2 = 7\n",
        "grade3 = 5\n",
        "grades = (grade1, grade2, grade3)\n",
        "from statistics import mean\n",
        "print(mean(grades))"
      ],
      "metadata": {
        "id": "k8V_N7g6mKen",
        "outputId": "ad35e6cd-c5c3-4627-ebd9-61b93df1ba04",
        "colab": {
          "base_uri": "https://localhost:8080/"
        }
      },
      "execution_count": null,
      "outputs": [
        {
          "output_type": "stream",
          "name": "stdout",
          "text": [
            "6.666666666666667\n"
          ]
        }
      ]
    },
    {
      "cell_type": "code",
      "source": [
        "sum (grades) / len(grades)"
      ],
      "metadata": {
        "id": "CF17TBkWmJYc",
        "outputId": "4ff5579b-5f0f-4b3c-c3d7-4c21500d7825",
        "colab": {
          "base_uri": "https://localhost:8080/"
        }
      },
      "execution_count": null,
      "outputs": [
        {
          "output_type": "execute_result",
          "data": {
            "text/plain": [
              "6.666666666666667"
            ]
          },
          "metadata": {},
          "execution_count": 13
        }
      ]
    },
    {
      "cell_type": "code",
      "source": [
        "round (mean(grades),0)"
      ],
      "metadata": {
        "id": "eCecc2fA09b1",
        "outputId": "b676bc16-9788-4052-8b61-4cf75a0e2376",
        "colab": {
          "base_uri": "https://localhost:8080/"
        }
      },
      "execution_count": null,
      "outputs": [
        {
          "output_type": "execute_result",
          "data": {
            "text/plain": [
              "7.0"
            ]
          },
          "metadata": {},
          "execution_count": 15
        }
      ]
    },
    {
      "cell_type": "code",
      "source": [
        "max (grades)"
      ],
      "metadata": {
        "id": "CMEa5OwZ1Ko8",
        "outputId": "1e3fd85b-40f6-425a-cc1e-5e617b2635c8",
        "colab": {
          "base_uri": "https://localhost:8080/"
        }
      },
      "execution_count": null,
      "outputs": [
        {
          "output_type": "execute_result",
          "data": {
            "text/plain": [
              "8"
            ]
          },
          "metadata": {},
          "execution_count": 16
        }
      ]
    },
    {
      "cell_type": "code",
      "source": [
        "min (grades)"
      ],
      "metadata": {
        "id": "92CQFIcP1MzI",
        "outputId": "da461166-e50d-49de-8a1c-f039a26110f4",
        "colab": {
          "base_uri": "https://localhost:8080/"
        }
      },
      "execution_count": null,
      "outputs": [
        {
          "output_type": "execute_result",
          "data": {
            "text/plain": [
              "5"
            ]
          },
          "metadata": {},
          "execution_count": 17
        }
      ]
    },
    {
      "cell_type": "code",
      "source": [
        "len (grades)"
      ],
      "metadata": {
        "id": "nrwop4Pw1S0h",
        "outputId": "fce41292-946e-49d4-852c-8c69e4469be9",
        "colab": {
          "base_uri": "https://localhost:8080/"
        }
      },
      "execution_count": null,
      "outputs": [
        {
          "output_type": "execute_result",
          "data": {
            "text/plain": [
              "3"
            ]
          },
          "metadata": {},
          "execution_count": 18
        }
      ]
    },
    {
      "cell_type": "code",
      "source": [
        "grade4 = 3\n",
        "grades = (grade1, grade2, grade3, grade4)\n",
        "from statistics import mean\n",
        "print(mean(grades))"
      ],
      "metadata": {
        "id": "gsQc7vm81XkL",
        "outputId": "f4c32c48-58b1-4b1b-d862-48dfba96e2b5",
        "colab": {
          "base_uri": "https://localhost:8080/"
        }
      },
      "execution_count": null,
      "outputs": [
        {
          "output_type": "stream",
          "name": "stdout",
          "text": [
            "5.75\n"
          ]
        }
      ]
    },
    {
      "cell_type": "code",
      "source": [
        "sum (grades) / len(grades)"
      ],
      "metadata": {
        "id": "4KQU0SzC1dmP",
        "outputId": "0106f08a-0fe1-4977-b4aa-9292e4fd05a2",
        "colab": {
          "base_uri": "https://localhost:8080/"
        }
      },
      "execution_count": null,
      "outputs": [
        {
          "output_type": "execute_result",
          "data": {
            "text/plain": [
              "5.75"
            ]
          },
          "metadata": {},
          "execution_count": 20
        }
      ]
    },
    {
      "cell_type": "code",
      "source": [
        "round (mean(grades),0)"
      ],
      "metadata": {
        "id": "1KlnKz941hba",
        "outputId": "103e8766-76da-41da-ea2f-d3c93d0b277a",
        "colab": {
          "base_uri": "https://localhost:8080/"
        }
      },
      "execution_count": null,
      "outputs": [
        {
          "output_type": "execute_result",
          "data": {
            "text/plain": [
              "6.0"
            ]
          },
          "metadata": {},
          "execution_count": 21
        }
      ]
    },
    {
      "cell_type": "code",
      "source": [
        "max (grades)"
      ],
      "metadata": {
        "id": "X7_1d0d11nZ0",
        "outputId": "0fbe301a-a1bc-4183-e161-26a61b5e3259",
        "colab": {
          "base_uri": "https://localhost:8080/"
        }
      },
      "execution_count": null,
      "outputs": [
        {
          "output_type": "execute_result",
          "data": {
            "text/plain": [
              "8"
            ]
          },
          "metadata": {},
          "execution_count": 22
        }
      ]
    },
    {
      "cell_type": "code",
      "source": [
        "min (grades)"
      ],
      "metadata": {
        "id": "GXtrAy7V1qel",
        "outputId": "bdae730b-afdf-4ddb-c84d-f4277b256acf",
        "colab": {
          "base_uri": "https://localhost:8080/"
        }
      },
      "execution_count": null,
      "outputs": [
        {
          "output_type": "execute_result",
          "data": {
            "text/plain": [
              "3"
            ]
          },
          "metadata": {},
          "execution_count": 24
        }
      ]
    },
    {
      "cell_type": "code",
      "source": [
        "len (grades)"
      ],
      "metadata": {
        "id": "6T9NFiSz1vKg",
        "outputId": "41b8c84a-b628-4829-827e-4bc131f65a7e",
        "colab": {
          "base_uri": "https://localhost:8080/"
        }
      },
      "execution_count": null,
      "outputs": [
        {
          "output_type": "execute_result",
          "data": {
            "text/plain": [
              "4"
            ]
          },
          "metadata": {},
          "execution_count": 25
        }
      ]
    },
    {
      "cell_type": "markdown",
      "source": [
        "\n",
        "\n",
        "---\n",
        "\n"
      ],
      "metadata": {
        "id": "nQ3CwAZKdbX9"
      }
    },
    {
      "cell_type": "markdown",
      "source": [
        "### **Άσκηση 2**:\n",
        "\n",
        "Μια συνήθης τυποποιημένη μορφή καταγραφής της ημερομηνίας δημοσίευσης των άρθρων στα ειδησεογραφικά sites είναι η εξής: ```2025-03-04T12:07:19+02:00``` και ονομάζεται ```datetime```.\n",
        "\n",
        "- το κομμάτι ```2025-03-04``` αναφέρεται στα ```έτος-μήνας-ημέρα```\n",
        "- το ```Τ``` υποδηλώνει ότι ακολουθεί η ώρα\n",
        "- το κομμάτι ```12:07:19``` αναφέρεται στα ```ώρα:λεπτά:δευτερόλεπτα```\n",
        "- το κομμάτι ```+02:00``` αναφέρεται στη διαφορά ώρας σε σχέση με την Παγκόσμια Συντονισμένη Ώρα (UTC - Coordinated Universal Time).\n",
        "\n",
        "**Άσκηση 2**:\n",
        "\n",
        "Ξεκινώντας από μια μεταβλητή με όνομα dateTime και τιμή την παραπάνω ημερομηνία-ώρα (2025-03-04T12:07:19+02:00), δημιουργήστε δύο μεταβλητές με ονόματα Date και Time στις οποίες θα αποθηκεύσετε αντίστοιχα την ημερομηνία και την ώρα.\n",
        "\n",
        "Στη συνέχεια, χρησιμοποιώντας τις μεταβλητές Date και Time που φτιάξατε, δημιουργήστε μια νέα μεταβλητή με όνομα custom_datetime η τιμή της οποίας θα είναι ένα string που θα περιέχει την ημέρομηνία και την ώρα στη μορφή: \"έτος, μήνας, ημέρα, ώρα:λεπτά:δευτερόλεπτα\" και τυπώστε τη στην οθόνη.\n",
        "\n",
        "*Hints*:\n",
        "- η τιμή της μεταβλητής dateTime είναι string, άρα μπορούμε να δουλέψουμε με αυτή σαν να είναι λίστα και να απομονώσουμε κομμάτια της χρησιμοποιώντας το index του πρώτου χαρακτήρα και του επόμενου από τον τελευταίο χαρακτήρα που θέλουμε (π.χ. dateTime[firstIndex:lastIndex+1])\n",
        "- ο επόμενος από τον τελευταίο χαρακτήρα της ημερομηνίας είναι το \"Τ\"\n",
        "- ο επόμενος από τον τελευταίο χαρακτήρα της ώρας είναι το \"+\"\n",
        "- μπορούμε να βρούμε το index ενός χαρακτήρα σε ένα string με τη μέθοδο index()\n",
        "- μπορούμε να αντικαταστήσουμε έναν χαρακτήρα σε ένα string με έναν άλλο χαρακτήρα με την εντολή replace(). Π.χ. μπορούμε να αντικαταστήσουμε σε ένα string τα κόμματα με τελείες με την εντολή string1.replace(\",\", \".\")\n",
        "- μπορούμε να ενώσουμε strings με το +. Π.χ. string3 = string1 + \", \" + string2 (το \", \" παρεμβάλει ανάμεσα στα αρχικά strings ένα κόμμα ακολουθούμενο από ένα κενό)\n",
        "\n",
        "*Tips*:\n",
        "- γράψτε μία-μία τις εντολές σε διαφορετικά κελιά και τυπώνετε το αποτέλεσμα της κάθε εντολής για να ελέγχετε το τι κάνετε\n",
        "- συμβουλευτείτε / αποδεχθείτε τις προτάσεις που σας κάνει το Gemini καθώς πληκτρολογείτε τις εντολές, πατώντας Tab - κάνετε διορθώσεις όπου χρειάζεται.\n",
        "\n"
      ],
      "metadata": {
        "id": "BQA7FXLgFHKA"
      }
    },
    {
      "cell_type": "code",
      "source": [
        "dateTime = \"2025-03-04T12:07:19+02:00\"\n",
        "Date = dateTime[0:10]\n",
        "Time = dateTime[11:19]\n",
        "custom_datetime = Date.replace(\"-\", \", \") + \", \" + Time\n",
        "print(custom_datetime)"
      ],
      "metadata": {
        "id": "RNqXTJxHmOcQ",
        "colab": {
          "base_uri": "https://localhost:8080/"
        },
        "outputId": "f34de8a2-4210-4d9d-d4a5-322c9ef0dbf8"
      },
      "execution_count": 3,
      "outputs": [
        {
          "output_type": "stream",
          "name": "stdout",
          "text": [
            "2025, 03, 04, 12:07:19\n"
          ]
        }
      ]
    },
    {
      "cell_type": "code",
      "source": [
        "datelist = dateTime.split(\"T\")\n",
        "date= datelist[0]\n",
        "timelist = datelist[1]\n",
        "time = timelist.split(\"+\")\n",
        "time = time[0]\n",
        "\n",
        "custom_datetime = str(date).replace(\"-\", \",\") + \",\" + str(time)\n",
        "print(custom_datetime)\n",
        "\n"
      ],
      "metadata": {
        "id": "tXggB5UEmOLR",
        "colab": {
          "base_uri": "https://localhost:8080/"
        },
        "outputId": "bd748f7a-638e-4b53-ea82-805d666c4ac5"
      },
      "execution_count": 21,
      "outputs": [
        {
          "output_type": "stream",
          "name": "stdout",
          "text": [
            "2025,03,04,12:07:19\n"
          ]
        }
      ]
    },
    {
      "cell_type": "markdown",
      "source": [
        "\n",
        "\n",
        "---\n",
        "\n"
      ],
      "metadata": {
        "id": "msY4V_-QlRQU"
      }
    },
    {
      "cell_type": "markdown",
      "source": [
        "### **Άσκηση Bonus (για τους πιο πορωμένους/ες 😃)** [μη βαθμολογήσιμη]\n",
        "\n",
        "Εκτός από τις συναρτήσεις που είναι ενσωματωμένες στην Python ή περιέχονται σε βιβλιοθήκες που μπορούμε να εισάγουμε (όπως η βιβλιοθήκη Statistics που είδαμε), μπορούμε να φτιάξουμε και δικές μας συναρτήσεις.\n",
        "\n",
        "Ο τρόπος κατασκευής δικών μας συναρτήσεων παρουσιάζεται παρακάτω:"
      ],
      "metadata": {
        "id": "m488rAGkebdJ"
      }
    },
    {
      "cell_type": "code",
      "source": [
        "def calculate_avg(list_name):\n",
        "  avg = sum(list_name) / len(list_name)\n",
        "  return avg"
      ],
      "metadata": {
        "id": "RvYcpxm0fO1N"
      },
      "execution_count": 22,
      "outputs": []
    },
    {
      "cell_type": "markdown",
      "source": [
        "Με τον παραπάνω κώδικα, με την εντολή ```def```, κατασκευάσαμε μια συνάρτηση με όνομα ```calculate_avg```.\n",
        "\n",
        "Μέσα στην παρένθεση ορίσαμε ότι η παράμετρος που δέχεται η συνάρτηση που κατασκευάζουμε, είναι το όνομα μιας λίστας ```(list_name)```.\n",
        "\n",
        "Στη συνέχεια ορίζουμε τον τύπο με τον οποίο θα υπολογίζουμε τον μέσο όρο, χρησιμοποιώντας το όνομα της λίστας που θα δίνεται σαν παράμετρος όταν καλούμε τη συνάρτηση (εξηγείται παρισσότερο παρακάτω).\n",
        "\n",
        "Τέλος, με την εντολή ```return``` επιστρέφουμε το αποτέλεσμα του υπολογισμού του μέσου όρου.\n",
        "\n",
        "**Προσοχή**: ο κώδικας μέσα στον ορισμό της συνάρτησης είναι intented, δηλαδή με εσοχή.\n"
      ],
      "metadata": {
        "id": "tQDe0GrxfhiE"
      }
    },
    {
      "cell_type": "markdown",
      "source": [
        "Με τον παραπάνω κώδικα κατασκευάσαμε τη συνάρτηση, την οποία πλέον μπορούμε να καλούμε με το όνομά της."
      ],
      "metadata": {
        "id": "krBasSd0hK9e"
      }
    },
    {
      "cell_type": "code",
      "source": [
        "my_gradesL = [10, 7, 6, 9, 8, 9]\n",
        "avg = calculate_avg(my_gradesL)\n",
        "print(avg)"
      ],
      "metadata": {
        "colab": {
          "base_uri": "https://localhost:8080/"
        },
        "id": "OqwYgElufgWX",
        "outputId": "acc61095-60e8-414e-828f-123e9bc20a17"
      },
      "execution_count": 23,
      "outputs": [
        {
          "output_type": "stream",
          "name": "stdout",
          "text": [
            "8.166666666666666\n"
          ]
        }
      ]
    },
    {
      "cell_type": "markdown",
      "source": [
        "Αν στην παραπάνω συνάρτηση ενσωματώσουμε και μια γραμμή κώδικα που θα κάνει σρογγυλοποίηση του avg σε 1 δεκαδικό, στην ουσία έχουμε φτιάξει τη συνάρτηση mean της βιβλιοθήκης statistics.\n",
        "\n",
        "Ή αλλιώς διατυπωμένο: ένας τέτοιος κώδικας τρέχει (κρυφά, από πίσω) όταν καλούμε την εντολή mean() της βιβλιοθήκης statistics."
      ],
      "metadata": {
        "id": "zYIgJEtNh3-j"
      }
    },
    {
      "cell_type": "code",
      "source": [
        "def calculate_avg(list_name):\n",
        "  avg = sum(list_name) / len(list_name)\n",
        "  avg = round(avg, 1)\n",
        "  return avg"
      ],
      "metadata": {
        "id": "Yy0zQjR3idKu"
      },
      "execution_count": 24,
      "outputs": []
    },
    {
      "cell_type": "code",
      "source": [
        "avg = calculate_avg(my_gradesL)\n",
        "print(avg)"
      ],
      "metadata": {
        "colab": {
          "base_uri": "https://localhost:8080/"
        },
        "id": "jCISqqZlimL8",
        "outputId": "46143be7-c4c0-4d07-cd05-9c5859016e52"
      },
      "execution_count": 25,
      "outputs": [
        {
          "output_type": "stream",
          "name": "stdout",
          "text": [
            "8.2\n"
          ]
        }
      ]
    },
    {
      "cell_type": "markdown",
      "source": [
        "### **Άσκηση Bonus**:\n",
        "\n",
        "Φτιάξτε μια συνάρτηση (με όνομα κάτι σαν \"date_from_datetime\"), η οποία θα παίρνει ένα datetime string και θα επιστρέφει μόνο την ημερομηνία (δηλαδή μόνο το μέρος \"έτος:μήνας:ημέρα\").\n",
        "\n",
        "*Tip*: Συμβουλευτείτε / αποδεχτείτε τις προτάσεις που σας κάνει το Gemini καθώς γράφετε τον κώδικα στα code shells."
      ],
      "metadata": {
        "id": "l_jDiXpVi2rf"
      }
    },
    {
      "cell_type": "code",
      "source": [
        "def date_from_datetime(custom_datetime):\n",
        "  str_list = custom_datetime.split(\",\")\n",
        "  year = str_list[0]\n",
        "  month = str_list[1]\n",
        "  day = str_list[2]\n",
        "  return year,month,day\n",
        ""
      ],
      "metadata": {
        "id": "aI0axH2BMiFI"
      },
      "execution_count": 32,
      "outputs": []
    },
    {
      "cell_type": "code",
      "source": [
        "Date = date_from_datetime(custom_datetime)\n",
        "Date"
      ],
      "metadata": {
        "colab": {
          "base_uri": "https://localhost:8080/"
        },
        "id": "qGHkeesuMxwS",
        "outputId": "089ebd2f-9bfe-446a-dd84-039417a82e68"
      },
      "execution_count": 33,
      "outputs": [
        {
          "output_type": "execute_result",
          "data": {
            "text/plain": [
              "('2025', '03', '04')"
            ]
          },
          "metadata": {},
          "execution_count": 33
        }
      ]
    }
  ]
}